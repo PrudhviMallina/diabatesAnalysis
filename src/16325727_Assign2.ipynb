{
 "cells": [
  {
   "cell_type": "code",
   "execution_count": 1,
   "id": "78f66e66",
   "metadata": {},
   "outputs": [],
   "source": [
    "#Importing the libraries\n",
    "\n",
    "import seaborn as sn\n",
    "import pandas as pd\n",
    "import numpy as np\n",
    "import random as rd\n",
    "import statistics as st\n",
    "import matplotlib.pyplot as plt\n",
    "import sklearn as sk"
   ]
  },
  {
   "cell_type": "code",
   "execution_count": 5,
   "id": "d2a907fd",
   "metadata": {},
   "outputs": [
    {
     "data": {
      "text/html": [
       "<div>\n",
       "<style scoped>\n",
       "    .dataframe tbody tr th:only-of-type {\n",
       "        vertical-align: middle;\n",
       "    }\n",
       "\n",
       "    .dataframe tbody tr th {\n",
       "        vertical-align: top;\n",
       "    }\n",
       "\n",
       "    .dataframe thead th {\n",
       "        text-align: right;\n",
       "    }\n",
       "</style>\n",
       "<table border=\"1\" class=\"dataframe\">\n",
       "  <thead>\n",
       "    <tr style=\"text-align: right;\">\n",
       "      <th></th>\n",
       "      <th>Pregnancies</th>\n",
       "      <th>Glucose</th>\n",
       "      <th>BloodPressure</th>\n",
       "      <th>SkinThickness</th>\n",
       "      <th>Insulin</th>\n",
       "      <th>BMI</th>\n",
       "      <th>DiabetesPedigreeFunction</th>\n",
       "      <th>Age</th>\n",
       "      <th>Outcome</th>\n",
       "    </tr>\n",
       "  </thead>\n",
       "  <tbody>\n",
       "    <tr>\n",
       "      <th>0</th>\n",
       "      <td>6</td>\n",
       "      <td>148</td>\n",
       "      <td>72</td>\n",
       "      <td>35</td>\n",
       "      <td>0</td>\n",
       "      <td>33.6</td>\n",
       "      <td>0.627</td>\n",
       "      <td>50</td>\n",
       "      <td>1</td>\n",
       "    </tr>\n",
       "    <tr>\n",
       "      <th>1</th>\n",
       "      <td>1</td>\n",
       "      <td>85</td>\n",
       "      <td>66</td>\n",
       "      <td>29</td>\n",
       "      <td>0</td>\n",
       "      <td>26.6</td>\n",
       "      <td>0.351</td>\n",
       "      <td>31</td>\n",
       "      <td>0</td>\n",
       "    </tr>\n",
       "    <tr>\n",
       "      <th>2</th>\n",
       "      <td>8</td>\n",
       "      <td>183</td>\n",
       "      <td>64</td>\n",
       "      <td>0</td>\n",
       "      <td>0</td>\n",
       "      <td>23.3</td>\n",
       "      <td>0.672</td>\n",
       "      <td>32</td>\n",
       "      <td>1</td>\n",
       "    </tr>\n",
       "    <tr>\n",
       "      <th>3</th>\n",
       "      <td>1</td>\n",
       "      <td>89</td>\n",
       "      <td>66</td>\n",
       "      <td>23</td>\n",
       "      <td>94</td>\n",
       "      <td>28.1</td>\n",
       "      <td>0.167</td>\n",
       "      <td>21</td>\n",
       "      <td>0</td>\n",
       "    </tr>\n",
       "    <tr>\n",
       "      <th>4</th>\n",
       "      <td>0</td>\n",
       "      <td>137</td>\n",
       "      <td>40</td>\n",
       "      <td>35</td>\n",
       "      <td>168</td>\n",
       "      <td>43.1</td>\n",
       "      <td>2.288</td>\n",
       "      <td>33</td>\n",
       "      <td>1</td>\n",
       "    </tr>\n",
       "  </tbody>\n",
       "</table>\n",
       "</div>"
      ],
      "text/plain": [
       "   Pregnancies  Glucose  BloodPressure  SkinThickness  Insulin   BMI  \\\n",
       "0            6      148             72             35        0  33.6   \n",
       "1            1       85             66             29        0  26.6   \n",
       "2            8      183             64              0        0  23.3   \n",
       "3            1       89             66             23       94  28.1   \n",
       "4            0      137             40             35      168  43.1   \n",
       "\n",
       "   DiabetesPedigreeFunction  Age  Outcome  \n",
       "0                     0.627   50        1  \n",
       "1                     0.351   31        0  \n",
       "2                     0.672   32        1  \n",
       "3                     0.167   21        0  \n",
       "4                     2.288   33        1  "
      ]
     },
     "execution_count": 5,
     "metadata": {},
     "output_type": "execute_result"
    }
   ],
   "source": [
    "# Extracting the data \n",
    "\n",
    "path = \"C:/Users/prudh/OneDrive/Desktop/PDS/Assignment2/diabetes.csv\"\n",
    "data_raw = pd.read_csv(path)\n",
    "\n",
    "#first 5 rows\n",
    "\n",
    "data_raw.head()"
   ]
  },
  {
   "cell_type": "code",
   "execution_count": 7,
   "id": "015cf235",
   "metadata": {},
   "outputs": [
    {
     "data": {
      "text/plain": [
       "Pregnancies                 0\n",
       "Glucose                     0\n",
       "BloodPressure               0\n",
       "SkinThickness               0\n",
       "Insulin                     0\n",
       "BMI                         0\n",
       "DiabetesPedigreeFunction    0\n",
       "Age                         0\n",
       "Outcome                     0\n",
       "dtype: int64"
      ]
     },
     "execution_count": 7,
     "metadata": {},
     "output_type": "execute_result"
    }
   ],
   "source": [
    "# Checking if there are any null values in the data\n",
    "\n",
    "data_raw.isnull().sum()"
   ]
  },
  {
   "cell_type": "code",
   "execution_count": 8,
   "id": "9fa2ba94",
   "metadata": {},
   "outputs": [],
   "source": [
    "# No null values present, we can use the same raw data\n",
    "\n",
    "data_raw.to_csv(\"C:/Users/prudh/OneDrive/Desktop/PDS/Assignment2/CleanData/clean_data.csv\")"
   ]
  },
  {
   "cell_type": "code",
   "execution_count": 10,
   "id": "cc778b55",
   "metadata": {},
   "outputs": [
    {
     "data": {
      "text/html": [
       "<div>\n",
       "<style scoped>\n",
       "    .dataframe tbody tr th:only-of-type {\n",
       "        vertical-align: middle;\n",
       "    }\n",
       "\n",
       "    .dataframe tbody tr th {\n",
       "        vertical-align: top;\n",
       "    }\n",
       "\n",
       "    .dataframe thead th {\n",
       "        text-align: right;\n",
       "    }\n",
       "</style>\n",
       "<table border=\"1\" class=\"dataframe\">\n",
       "  <thead>\n",
       "    <tr style=\"text-align: right;\">\n",
       "      <th></th>\n",
       "      <th>Pregnancies</th>\n",
       "      <th>Glucose</th>\n",
       "      <th>BloodPressure</th>\n",
       "      <th>SkinThickness</th>\n",
       "      <th>Insulin</th>\n",
       "      <th>BMI</th>\n",
       "      <th>DiabetesPedigreeFunction</th>\n",
       "      <th>Age</th>\n",
       "      <th>Outcome</th>\n",
       "    </tr>\n",
       "  </thead>\n",
       "  <tbody>\n",
       "    <tr>\n",
       "      <th>668</th>\n",
       "      <td>6</td>\n",
       "      <td>98</td>\n",
       "      <td>58</td>\n",
       "      <td>33</td>\n",
       "      <td>190</td>\n",
       "      <td>34.0</td>\n",
       "      <td>0.430</td>\n",
       "      <td>43</td>\n",
       "      <td>0</td>\n",
       "    </tr>\n",
       "    <tr>\n",
       "      <th>324</th>\n",
       "      <td>2</td>\n",
       "      <td>112</td>\n",
       "      <td>75</td>\n",
       "      <td>32</td>\n",
       "      <td>0</td>\n",
       "      <td>35.7</td>\n",
       "      <td>0.148</td>\n",
       "      <td>21</td>\n",
       "      <td>0</td>\n",
       "    </tr>\n",
       "    <tr>\n",
       "      <th>624</th>\n",
       "      <td>2</td>\n",
       "      <td>108</td>\n",
       "      <td>64</td>\n",
       "      <td>0</td>\n",
       "      <td>0</td>\n",
       "      <td>30.8</td>\n",
       "      <td>0.158</td>\n",
       "      <td>21</td>\n",
       "      <td>0</td>\n",
       "    </tr>\n",
       "    <tr>\n",
       "      <th>690</th>\n",
       "      <td>8</td>\n",
       "      <td>107</td>\n",
       "      <td>80</td>\n",
       "      <td>0</td>\n",
       "      <td>0</td>\n",
       "      <td>24.6</td>\n",
       "      <td>0.856</td>\n",
       "      <td>34</td>\n",
       "      <td>0</td>\n",
       "    </tr>\n",
       "    <tr>\n",
       "      <th>473</th>\n",
       "      <td>7</td>\n",
       "      <td>136</td>\n",
       "      <td>90</td>\n",
       "      <td>0</td>\n",
       "      <td>0</td>\n",
       "      <td>29.9</td>\n",
       "      <td>0.210</td>\n",
       "      <td>50</td>\n",
       "      <td>0</td>\n",
       "    </tr>\n",
       "  </tbody>\n",
       "</table>\n",
       "</div>"
      ],
      "text/plain": [
       "     Pregnancies  Glucose  BloodPressure  SkinThickness  Insulin   BMI  \\\n",
       "668            6       98             58             33      190  34.0   \n",
       "324            2      112             75             32        0  35.7   \n",
       "624            2      108             64              0        0  30.8   \n",
       "690            8      107             80              0        0  24.6   \n",
       "473            7      136             90              0        0  29.9   \n",
       "\n",
       "     DiabetesPedigreeFunction  Age  Outcome  \n",
       "668                     0.430   43        0  \n",
       "324                     0.148   21        0  \n",
       "624                     0.158   21        0  \n",
       "690                     0.856   34        0  \n",
       "473                     0.210   50        0  "
      ]
     },
     "execution_count": 10,
     "metadata": {},
     "output_type": "execute_result"
    }
   ],
   "source": [
    "#Taking a random 25 samples from the total dataset\n",
    "\n",
    "data_sample= data_raw.sample(n= 25, random_state= 42)\n",
    "\n",
    "data_sample.head()"
   ]
  },
  {
   "cell_type": "code",
   "execution_count": 34,
   "id": "272f8439",
   "metadata": {},
   "outputs": [
    {
     "name": "stdout",
     "output_type": "stream",
     "text": [
      "Number of Rows: 25\n",
      "Number of Columns: 9\n"
     ]
    }
   ],
   "source": [
    "# Printing the no.of rows and columns in the sample we took\n",
    "\n",
    "print(\"Number of Rows: {}\\nNumber of Columns: {}\".format(data_sample.shape[0], data_raw.shape[1]))"
   ]
  },
  {
   "cell_type": "code",
   "execution_count": 35,
   "id": "43920682",
   "metadata": {},
   "outputs": [
    {
     "name": "stdout",
     "output_type": "stream",
     "text": [
      "116.64\n"
     ]
    }
   ],
   "source": [
    "#find the mean Glucose of the sample\n",
    "\n",
    "mean_glucose_sample = st.mean(data_sample.loc[:,\"Glucose\"])\n",
    "print(mean_glucose_sample)\n",
    "mean_val = [mean_glucose_sample]"
   ]
  },
  {
   "cell_type": "code",
   "execution_count": 36,
   "id": "8aff2008",
   "metadata": {},
   "outputs": [
    {
     "name": "stdout",
     "output_type": "stream",
     "text": [
      "183\n"
     ]
    }
   ],
   "source": [
    "#find the max Glucose of the sample\n",
    "\n",
    "max_glucose_sample = max(data_sample.loc[:,\"Glucose\"])\n",
    "print(max_glucose_sample)\n",
    "max_val = [max_glucose_sample]"
   ]
  },
  {
   "cell_type": "code",
   "execution_count": 37,
   "id": "b2a97a6b",
   "metadata": {},
   "outputs": [
    {
     "name": "stdout",
     "output_type": "stream",
     "text": [
      "120.89453125\n",
      "[116.64, 120.89453125]\n",
      "['mean_sample', 'mean_population']\n"
     ]
    }
   ],
   "source": [
    "#find the mean Glucose of the whole data\n",
    "\n",
    "mean_glucose_population = st.mean(data_raw.loc[:,\"Glucose\"])\n",
    "print(mean_glucose_population)\n",
    "mean_val.append(mean_glucose_population)\n",
    "mean_var = [\"mean_sample\", \"mean_population\"]\n",
    "print (mean_val)\n",
    "print (mean_var)"
   ]
  },
  {
   "cell_type": "code",
   "execution_count": 38,
   "id": "52eccd12",
   "metadata": {},
   "outputs": [
    {
     "name": "stdout",
     "output_type": "stream",
     "text": [
      "199\n",
      "[183, 199]\n",
      "['max_sample', 'max_population']\n"
     ]
    }
   ],
   "source": [
    "#find the max Glucose of whole data\n",
    "\n",
    "max_glucose_population = max(data_raw.loc[:,\"Glucose\"])\n",
    "print(max_glucose_population)\n",
    "max_val.append(max_glucose_population)\n",
    "max_var = [\"max_sample\", \"max_population\"]\n",
    "print (max_val)\n",
    "print (max_var)"
   ]
  },
  {
   "cell_type": "code",
   "execution_count": 40,
   "id": "b86d6245",
   "metadata": {},
   "outputs": [
    {
     "data": {
      "image/png": "[encoded data removed]",
      "text/plain": [
       "<Figure size 288x360 with 1 Axes>"
      ]
     },
     "metadata": {
      "needs_background": "light"
     },
     "output_type": "display_data"
    }
   ],
   "source": [
    "# creating the bar plot for the sample vs population mean\n",
    "\n",
    "fig = plt.figure(figsize = (4, 5))\n",
    "\n",
    "plt.bar(mean_var, mean_val, color ='blue',\n",
    "        width = 0.4)\n",
    " \n",
    "plt.xlabel(\"sample vs population mean\")\n",
    "plt.ylabel(\"mean values\")\n",
    "plt.title(\"mean measurement\")\n",
    "\n",
    "\n",
    "plt.savefig(\"C:/Users/prudh/OneDrive/Desktop/PDS/Assignment2/Results/A/mean_image.jpeg\")\n",
    "\n",
    "plt.show()"
   ]
  },
  {
   "cell_type": "code",
   "execution_count": 41,
   "id": "5f9589c6",
   "metadata": {},
   "outputs": [
    {
     "data": {
      "image/png": "[encoded data removed]",
      "text/plain": [
       "<Figure size 432x288 with 1 Axes>"
      ]
     },
     "metadata": {},
     "output_type": "display_data"
    }
   ],
   "source": [
    "# Creating the pie graph\n",
    "\n",
    "plt.pie(mean_val, labels = mean_var, autopct='%1.1f%%', shadow=True, startangle=90)\n",
    "\n",
    "plt.savefig(\"C:/Users/prudh/OneDrive/Desktop/PDS/Assignment2/Results/A/pie_image.jpeg\")"
   ]
  },
  {
   "cell_type": "code",
   "execution_count": 42,
   "id": "2d97e410",
   "metadata": {},
   "outputs": [
    {
     "data": {
      "image/png": "[encoded data removed]",
      "text/plain": [
       "<Figure size 288x360 with 1 Axes>"
      ]
     },
     "metadata": {
      "needs_background": "light"
     },
     "output_type": "display_data"
    }
   ],
   "source": [
    "# Creating the bar plot for the sample vs population max values\n",
    "\n",
    "fig = plt.figure(figsize = (4, 5))\n",
    " \n",
    "\n",
    "plt.bar(max_var, max_val, color ='blue',\n",
    "        width = 0.4)\n",
    " \n",
    "plt.xlabel(\"sample vs population\")\n",
    "plt.ylabel(\"highest values\")\n",
    "plt.title(\"highest value measurement\")\n",
    "\n",
    "plt.savefig(\"C:/Users/prudh/OneDrive/Desktop/PDS/Assignment2/Results/A/max_barimage.jpeg\")\n",
    "\n",
    "\n",
    "\n",
    "plt.show()"
   ]
  },
  {
   "cell_type": "code",
   "execution_count": 43,
   "id": "855a53e5",
   "metadata": {},
   "outputs": [
    {
     "data": {
      "image/png": "[encoded data removed]",
      "text/plain": [
       "<Figure size 432x288 with 1 Axes>"
      ]
     },
     "metadata": {},
     "output_type": "display_data"
    }
   ],
   "source": [
    "# Creating the pie graph\n",
    "\n",
    "plt.pie(max_val, labels = max_var , autopct='%1.1f%%', shadow=True, startangle=90)\n",
    "\n",
    "plt.savefig(\"C:/Users/prudh/OneDrive/Desktop/PDS/Assignment2/Results/A/max_pieimage.jpeg\")"
   ]
  },
  {
   "cell_type": "code",
   "execution_count": 46,
   "id": "9e3a21a2",
   "metadata": {},
   "outputs": [
    {
     "name": "stdout",
     "output_type": "stream",
     "text": [
      "40.248\n"
     ]
    }
   ],
   "source": [
    "#finding the 98th percentile of sample data\n",
    "\n",
    "sample_percentile = np.percentile(data_sample.loc[:,\"BMI\"], 98)\n",
    "print(sample_percentile)\n",
    "\n",
    "#Storing the percentile values in the list\n",
    "\n",
    "percentile_values = [sample_percentile]"
   ]
  },
  {
   "cell_type": "code",
   "execution_count": 47,
   "id": "5ef2b634",
   "metadata": {},
   "outputs": [
    {
     "name": "stdout",
     "output_type": "stream",
     "text": [
      "47.52599999999996\n"
     ]
    }
   ],
   "source": [
    "#finding the 98th percentile of population data\n",
    "\n",
    "population_percentile = np.percentile(data_raw.loc[:,\"BMI\"], 98)\n",
    "print(population_percentile)\n",
    "\n",
    "#Appending the population percentile value to the list\n",
    "percentile_values.append(population_percentile)\n",
    "\n",
    "#Creating a list and storing the variables \n",
    "\n",
    "percentile_vars = [\"sample_percentile\", \"population_percentile\"]"
   ]
  },
  {
   "cell_type": "code",
   "execution_count": 48,
   "id": "8a4bbb6e",
   "metadata": {},
   "outputs": [
    {
     "data": {
      "image/png": "[encoded data removed]",
      "text/plain": [
       "<Figure size 288x360 with 1 Axes>"
      ]
     },
     "metadata": {
      "needs_background": "light"
     },
     "output_type": "display_data"
    }
   ],
   "source": [
    "# Ploting the bar graph between the sample and population percentile\n",
    "\n",
    "fig = plt.figure(figsize = (4, 5))\n",
    " \n",
    "\n",
    "plt.bar(percentile_vars, percentile_values, color ='blue',\n",
    "        width = 0.4)\n",
    " \n",
    "plt.xlabel(\"sample vs population\")\n",
    "plt.ylabel(\"percentile values\")\n",
    "plt.title(\"percentile value measurement\")\n",
    "\n",
    "plt.savefig(\"C:/Users/prudh/OneDrive/Desktop/PDS/Assignment2/Results/B/percentile_barimage.jpeg\")\n",
    "\n",
    "\n",
    "plt.show()"
   ]
  },
  {
   "cell_type": "code",
   "execution_count": 49,
   "id": "0ce1716b",
   "metadata": {},
   "outputs": [
    {
     "data": {
      "image/png": "[encoded data removed]",
      "text/plain": [
       "<Figure size 432x288 with 1 Axes>"
      ]
     },
     "metadata": {},
     "output_type": "display_data"
    }
   ],
   "source": [
    "# showing the results in pie chart\n",
    "\n",
    "plt.pie(percentile_values, labels = percentile_vars , autopct='%1.1f%%', shadow=True, startangle=90)\n",
    "plt.savefig(\"C:/Users/prudh/OneDrive/Desktop/PDS/Assignment2/Results/B/percentile_pieimage.jpeg\")"
   ]
  },
  {
   "cell_type": "code",
   "execution_count": 50,
   "id": "aa70d08c",
   "metadata": {},
   "outputs": [
    {
     "name": "stdout",
     "output_type": "stream",
     "text": [
      "     Pregnancies  Glucose  BloodPressure  SkinThickness  Insulin   BMI  \\\n",
      "228            4      197             70             39      744  36.7   \n",
      "442            4      117             64             27      120  33.2   \n",
      "507            1      130             60             23      170  28.6   \n",
      "25            10      125             70             26      115  31.1   \n",
      "496            5      110             68              0        0  26.0   \n",
      "..           ...      ...            ...            ...      ...   ...   \n",
      "732            2      174             88             37      120  44.5   \n",
      "514            3       99             54             19       86  25.6   \n",
      "750            4      136             70              0        0  31.2   \n",
      "364            4      147             74             25      293  34.9   \n",
      "485            0      135             68             42      250  42.3   \n",
      "\n",
      "     DiabetesPedigreeFunction  Age  Outcome  \n",
      "228                     2.329   31        0  \n",
      "442                     0.230   24        0  \n",
      "507                     0.692   21        0  \n",
      "25                      0.205   41        1  \n",
      "496                     0.292   30        0  \n",
      "..                        ...  ...      ...  \n",
      "732                     0.646   24        1  \n",
      "514                     0.154   24        0  \n",
      "750                     1.182   22        1  \n",
      "364                     0.385   30        0  \n",
      "485                     0.365   24        1  \n",
      "\n",
      "[500 rows x 9 columns]\n"
     ]
    }
   ],
   "source": [
    "#Using bootstrap (replace= True), created 500 samples (of 150 observation each) from the actual given dataset\n",
    "\n",
    "data_boot = sk.utils.resample(data_raw, replace=True, n_samples=500, random_state=150)\n",
    "\n",
    "print(data_boot)"
   ]
  },
  {
   "cell_type": "code",
   "execution_count": 55,
   "id": "4777e7b6",
   "metadata": {},
   "outputs": [],
   "source": [
    "from statistics import mean"
   ]
  },
  {
   "cell_type": "code",
   "execution_count": 58,
   "id": "3df0a3b9",
   "metadata": {},
   "outputs": [
    {
     "name": "stdout",
     "output_type": "stream",
     "text": [
      "31.8188\n"
     ]
    }
   ],
   "source": [
    "# finding the mean BMI of the bootstrap sample\n",
    "\n",
    "boot_mean_BMI = mean(data_boot.loc[:,\"BMI\"])\n",
    "print(boot_mean_BMI)\n",
    "\n",
    "#storing the bootstrapped mean value in a list\n",
    "mean_values = [boot_mean_BMI]"
   ]
  },
  {
   "cell_type": "code",
   "execution_count": 59,
   "id": "d0862c65",
   "metadata": {},
   "outputs": [
    {
     "name": "stdout",
     "output_type": "stream",
     "text": [
      "8.058660594736716\n"
     ]
    }
   ],
   "source": [
    "#find the std BMI of the bootstrap sample\n",
    "\n",
    "boot_std_BMI = st.stdev(data_boot.loc[:,\"BMI\"])\n",
    "print(boot_std_BMI)\n",
    "\n",
    "#Storing the std values of the bootstrap samples in a list\n",
    "std_values = [boot_std_BMI]"
   ]
  },
  {
   "cell_type": "code",
   "execution_count": 60,
   "id": "a6946cd3",
   "metadata": {},
   "outputs": [
    {
     "name": "stdout",
     "output_type": "stream",
     "text": [
      "46.50599999999999\n"
     ]
    }
   ],
   "source": [
    "#find the percentile BMI of the bootstrap sample\n",
    "\n",
    "boot_percentile_BMI = np.percentile(data_boot.loc[:,\"BMI\"], 98)\n",
    "print(boot_percentile_BMI)\n",
    "\n",
    "#Storing the percentile values of bootstrap samples in a list\n",
    "percentile_values = [boot_percentile_BMI]"
   ]
  },
  {
   "cell_type": "code",
   "execution_count": 61,
   "id": "fec19801",
   "metadata": {},
   "outputs": [
    {
     "name": "stdout",
     "output_type": "stream",
     "text": [
      "31.992578125\n"
     ]
    }
   ],
   "source": [
    "#find the mean BMI of the raw data\n",
    "\n",
    "raw_mean_BMI = mean(data_raw.loc[:,\"BMI\"])\n",
    "print(raw_mean_BMI)\n",
    "\n",
    "#Appending the value to the mean values list\n",
    "mean_values.append(raw_mean_BMI)\n",
    "\n",
    "#Creating a list and storing the mean variables\n",
    "mean_vars = [\"bootstrap_mean\", \"raw_mean\"]"
   ]
  },
  {
   "cell_type": "code",
   "execution_count": 62,
   "id": "f33ba4fa",
   "metadata": {},
   "outputs": [
    {
     "name": "stdout",
     "output_type": "stream",
     "text": [
      "7.884160320375446\n"
     ]
    }
   ],
   "source": [
    "#find the std BMI of the raw data\n",
    "\n",
    "raw_std_BMI = st.stdev(data_raw.loc[:,\"BMI\"])\n",
    "print(raw_std_BMI)\n",
    "\n",
    "#Appending the values to the std values list\n",
    "std_values.append(raw_std_BMI)\n",
    "\n",
    "#Creating a list and storing the std variables\n",
    "std_vars = [\"bootstrap_std\", \"raw_std\"]"
   ]
  },
  {
   "cell_type": "code",
   "execution_count": 63,
   "id": "aba21b25",
   "metadata": {},
   "outputs": [
    {
     "name": "stdout",
     "output_type": "stream",
     "text": [
      "47.52599999999996\n"
     ]
    }
   ],
   "source": [
    "#find the percentile BMI of the raw data\n",
    "\n",
    "raw_percentile_BMI = np.percentile(data_raw.loc[:,\"BMI\"], 98)\n",
    "print(raw_percentile_BMI)\n",
    "\n",
    "#Appending the values to the percentile values list\n",
    "percentile_values.append(raw_percentile_BMI)\n",
    "\n",
    "#Creating a list and storing the percentile variables\n",
    "percentile_vars = [\"bootstrap_percentile\", \"raw_percentile\"]"
   ]
  },
  {
   "cell_type": "code",
   "execution_count": 64,
   "id": "c872eb36",
   "metadata": {},
   "outputs": [
    {
     "data": {
      "image/png": "[encoded data removed]",
      "text/plain": [
       "<Figure size 288x360 with 1 Axes>"
      ]
     },
     "metadata": {
      "needs_background": "light"
     },
     "output_type": "display_data"
    }
   ],
   "source": [
    "#Creating the bar PLot for mean values of bootstrap and raw data\n",
    "\n",
    "fig = plt.figure(figsize = (4, 5))\n",
    " \n",
    "\n",
    "plt.bar(mean_vars, mean_values, color ='blue',\n",
    "        width = 0.4)\n",
    " \n",
    "plt.xlabel(\"Bootstrapsample vs population\")\n",
    "plt.ylabel(\"mean values\")\n",
    "plt.title(\"mean value measurement\")\n",
    "\n",
    "plt.savefig(\"C:/Users/prudh/OneDrive/Desktop/PDS/Assignment2/Results/C/bootmean_barimage.jpeg\")\n",
    "\n",
    "\n",
    "plt.show()"
   ]
  },
  {
   "cell_type": "code",
   "execution_count": 67,
   "id": "480df731",
   "metadata": {},
   "outputs": [
    {
     "data": {
      "image/png": "[encoded data removed]",
      "text/plain": [
       "<Figure size 432x288 with 1 Axes>"
      ]
     },
     "metadata": {},
     "output_type": "display_data"
    }
   ],
   "source": [
    "#Creating the pie chart\n",
    "\n",
    "plt.pie(mean_values, labels = mean_vars , autopct='%1.1f%%', shadow=True, startangle=90)\n",
    "plt.savefig(\"C:/Users/prudh/OneDrive/Desktop/PDS/Assignment2/Results/C/bootmean_pieimage.jpeg\")"
   ]
  },
  {
   "cell_type": "code",
   "execution_count": 66,
   "id": "ea89a086",
   "metadata": {},
   "outputs": [
    {
     "data": {
      "image/png": "[encoded data removed]",
      "text/plain": [
       "<Figure size 288x360 with 1 Axes>"
      ]
     },
     "metadata": {
      "needs_background": "light"
     },
     "output_type": "display_data"
    }
   ],
   "source": [
    "# Creating the bar plot for the std values of the bootstrap values and the raw data\n",
    "\n",
    "fig = plt.figure(figsize = (4, 5))\n",
    " \n",
    "\n",
    "plt.bar(std_vars, std_values, color ='blue',\n",
    "        width = 0.4)\n",
    " \n",
    "plt.xlabel(\"Bootstrapsample vs population\")\n",
    "plt.ylabel(\"std values\")\n",
    "plt.title(\"std value measurement\")\n",
    "\n",
    "plt.savefig(\"C:/Users/prudh/OneDrive/Desktop/PDS/Assignment2/Results/C/bootstd_barimage.jpeg\")\n",
    "\n",
    "\n",
    "plt.show()"
   ]
  },
  {
   "cell_type": "code",
   "execution_count": 68,
   "id": "106c3fe9",
   "metadata": {},
   "outputs": [
    {
     "data": {
      "image/png": "[encoded data removed]",
      "text/plain": [
       "<Figure size 432x288 with 1 Axes>"
      ]
     },
     "metadata": {},
     "output_type": "display_data"
    }
   ],
   "source": [
    "#Creating the pie chart\n",
    "\n",
    "plt.pie(std_values, labels = std_vars , autopct='%1.1f%%', shadow=True, startangle=90)\n",
    "plt.savefig(\"C:/Users/prudh/OneDrive/Desktop/PDS/Assignment2/Results/C/bootstd_pieimage.jpeg\")"
   ]
  },
  {
   "cell_type": "code",
   "execution_count": 69,
   "id": "ef3b4ff6",
   "metadata": {},
   "outputs": [
    {
     "data": {
      "image/png": "[encoded data removed]",
      "text/plain": [
       "<Figure size 288x360 with 1 Axes>"
      ]
     },
     "metadata": {
      "needs_background": "light"
     },
     "output_type": "display_data"
    }
   ],
   "source": [
    "# Creating the bar plot for the percentile values of the bootstrap values and the raw data\n",
    "\n",
    "fig = plt.figure(figsize = (4, 5))\n",
    " \n",
    "# creating the bar plot\n",
    "plt.bar(percentile_vars, percentile_values, color ='blue',\n",
    "        width = 0.4)\n",
    " \n",
    "plt.xlabel(\"Bootstrap sample vs population\")\n",
    "plt.ylabel(\"Percentile values\")\n",
    "plt.title(\"percentile value measurement\")\n",
    "\n",
    "plt.savefig(\"C:/Users/prudh/OneDrive/Desktop/PDS/Assignment2/Results/C/bootpercentile_barimage.jpeg\")\n",
    "\n",
    "\n",
    "plt.show()"
   ]
  },
  {
   "cell_type": "code",
   "execution_count": 70,
   "id": "2e686943",
   "metadata": {},
   "outputs": [
    {
     "data": {
      "image/png": "[encoded data removed]",
      "text/plain": [
       "<Figure size 432x288 with 1 Axes>"
      ]
     },
     "metadata": {},
     "output_type": "display_data"
    }
   ],
   "source": [
    "#Creating the pie chart\n",
    "\n",
    "plt.pie(percentile_values, labels = percentile_vars , autopct='%1.1f%%', shadow=True, startangle=90)\n",
    "plt.savefig(\"C:/Users/prudh/OneDrive/Desktop/PDS/Assignment2/Results/C/bootpercentile_pieimage.jpeg\")"
   ]
  },
  {
   "cell_type": "code",
   "execution_count": null,
   "id": "2a8045ce",
   "metadata": {},
   "outputs": [],
   "source": []
  }
 ],
 "metadata": {
  "kernelspec": {
   "display_name": "Python 3 (ipykernel)",
   "language": "python",
   "name": "python3"
  },
  "language_info": {
   "codemirror_mode": {
    "name": "ipython",
    "version": 3
   },
   "file_extension": ".py",
   "mimetype": "text/x-python",
   "name": "python",
   "nbconvert_exporter": "python",
   "pygments_lexer": "ipython3",
   "version": "3.9.7"
  }
 },
 "nbformat": 4,
 "nbformat_minor": 5
}
